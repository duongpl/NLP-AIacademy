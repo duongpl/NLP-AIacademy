{
 "cells": [
  {
   "cell_type": "code",
   "execution_count": 1,
   "metadata": {},
   "outputs": [],
   "source": [
    "import json\n",
    "import urllib.request, json"
   ]
  },
  {
   "cell_type": "code",
   "execution_count": null,
   "metadata": {},
   "outputs": [],
   "source": [
    "# crawl data on lazada\n",
    "def load_url_selenium_lazada(url):\n",
    "    # Selenium\n",
    "    driver=webdriver.Chrome(executable_path='/usr/bin/chromedriver')\n",
    "    print(\"Loading url=\", url)\n",
    "    driver.get(url)\n",
    "    list_review = []\n",
    "    # just craw 10 page\n",
    "    x=0\n",
    "    while x<10:\n",
    "        try:\n",
    "            #Get the review details here\n",
    "            WebDriverWait(driver,5).until(EC.visibility_of_all_elements_located((By.CSS_SELECTOR,\"div.item\")))\n",
    "        except:\n",
    "            print('No has comment')\n",
    "            break\n",
    "        \n",
    "        product_reviews = driver.find_elements_by_css_selector(\"[class='item']\")\n",
    "        # Get product review\n",
    "        for product in product_reviews:\n",
    "            review = product.find_element_by_css_selector(\"[class='content']\").text\n",
    "            if (review != \"\" or review.strip()):\n",
    "                print(review, \"\\n\")\n",
    "                list_review.append(review)\n",
    "        #Check for button next-pagination-item have disable attribute then jump from loop else click on the next button\n",
    "        if len(driver.find_elements_by_css_selector(\"button.next-pagination-item.next[disabled]\"))>0:\n",
    "            break;\n",
    "        else:\n",
    "            button_next=WebDriverWait(driver, 5).until(EC.visibility_of_element_located((By.CSS_SELECTOR, \"button.next-pagination-item.next\")))\n",
    "            driver.execute_script(\"arguments[0].click();\", button_next)\n",
    "            print(\"next page\")\n",
    "            time.sleep(2)\n",
    "            x +=1\n",
    "    driver.close()\n",
    "    return list_review"
   ]
  },
  {
   "cell_type": "code",
   "execution_count": 304,
   "metadata": {},
   "outputs": [
    {
     "name": "stdout",
     "output_type": "stream",
     "text": [
      "Ưu điểm: Bình thiết kế đẹp, nhìn khá hiện đại, nhất là màn hình hiển thị nhiệt độ tuy không chính xác 100%. Nhược điểm: bình dễ trầy xước, chiều cao bình hơi thấp nên không để ống hút inox trong bình được nên khá bất tiện\n",
      "led chết tè le, chưa nói có chính xác nhiệt không. Để 2 tiếng thì chế mì gói ..10phút sau mới mềm. \n",
      "Thất vọng.\n",
      "Bình nước vừa tay cầm, màu sắc tươi, không bám vân tay, màn hình nhạy.\n",
      "Tiki giao hàng nhanh hơn dự kiến. Mạnh dạn vote 5*\n",
      "Bình giữ  nhiệt  ko giữ  dc nhiệt  lâu  chỉ  vài giờ là  nguội ah.  Nhiệt  độ  đo cũng  ko chính xác nữa,  lúc  đầu  đúng  sau đó  ko đúng nữa.  Còn dịch vụ giao hàng thì nhanh,  ok.\n",
      "lần trước mình cũng mua. ko có chữ hay nhãn hiệu. còn hình quảng cáo thì có.lần này mua cũng vậy. trơn tru luôn.\n",
      "nhìn bên trong còn tạm.bên ngoài sơn rẻ tiền .hình màu đen giao màu trắng.với giá này chấp nhận tạm được\n",
      "Mình khẳng định mình chuẩn men ! Nếu ai có thấy mình dùng bình nước màu hường thì đừng vội nghĩ mình bê đê ! Do shop gửi màu hường đó 😑😑😑😑😑\n",
      "Sản phẩm mình nhận được không giống như hình. Tưởng là sẽ giao màu đen, ai ngờ con trai mà lại xài màu này sao xài???\n",
      "mình đặt mua bình màu đen, tiki giao cho mình hộp màu đen luôn nhưng  cái bình bên trong lại màu đỏ.mình muốn đổi lại có được không?\n",
      "mua màu đen giao màu này :v shop làm cẩn thận lại nha Hàng xài chất lượng 👌 giao sớm tốt\n",
      "mới đặt hôm qua.hôm nay nhận được. nấu ngay 1 ấm nước test thử... chuẩn luôn\n",
      "giao hàng nhanh, bình nước rất tốt rất ok luôn chất liệu tốt cho shop 5 sao\n",
      "Sản phẩm ôk giữ nóng giữ lạnh lâu mà tiếc cái sức xứ từ trung quốc\n",
      "Lột seal ra thì bị trầy tlum. Chưa xài nên ko biết giữ lạnh có ổn ko.\n",
      "bảo gửi màu đen shop gửi màu trắng . ko đúng như sp quảng cáo\n",
      "hình thức đẹp, giao hàng nhanh, chất lượng dùng một thời gian mới đánh giá được.\n",
      "Sử dụng ok, đo nhiệt độ cũng ổn. Sơn dễ tróc. Không có trang trí như hình :/\n",
      "chọn màu đen xong cho màu hông sao mà dùng được, đề nghị đổi cái mới\n",
      "sao ms dùng mà đã hết pin r , lại chả có hướng dẫn thay pin gì cả\n",
      "dùng được, giu nhiet cung tạm ổn, báo nhiệt độ k chính xác lắm\n",
      "mình thấy OK hàng tiki vậy rất OK rồi\n",
      "Nghi sao ma giao mau hong ,chon mau den ma giao mau khac k hai log chut nao\n",
      "Đẹp ok nè\n",
      "nếu đèn led của bình hết pin thì làm sao để thay vậy ?\n",
      "đặt mua màu đen mà hàng nhận được là màu hồng\n",
      "Giao hàng nhanh chóng\n",
      "Dùng dc mấy ngày thì mất đồng hồ báo nhiệt\n",
      "Sao giới thiệu bình đen mà giao trắng nhỉ?\n",
      "giao Hàng Nhanh sản phẩm đúng hình\n"
     ]
    }
   ],
   "source": [
    "# crawl data on tiki\n",
    "url = \"https://tiki.vn/api/v2/reviews?product_id=25305723&sort=score%7Casc,id%7Casc,stars%7Call&page=1&limit=30&include=comments\"\n",
    "\n",
    "response = urllib.request.urlopen(url)\n",
    "\n",
    "data = json.loads(response.read())\n",
    "\n",
    "\n",
    "list_comment = data.get('data')\n",
    "for comment in list_comment:\n",
    "    if comment.get('content') != '':\n",
    "        print(comment.get('content'))"
   ]
  },
  {
   "cell_type": "code",
   "execution_count": 2,
   "metadata": {},
   "outputs": [],
   "source": [
    "# total_comment = []"
   ]
  },
  {
   "cell_type": "code",
   "execution_count": 305,
   "metadata": {},
   "outputs": [],
   "source": [
    "list_comment = data.get('data')\n",
    "for comment in list_comment:\n",
    "    if comment.get('content') != '':\n",
    "        total_comment.append(comment.get('content'))"
   ]
  },
  {
   "cell_type": "code",
   "execution_count": 306,
   "metadata": {},
   "outputs": [
    {
     "data": {
      "text/plain": [
       "4020"
      ]
     },
     "execution_count": 306,
     "metadata": {},
     "output_type": "execute_result"
    }
   ],
   "source": [
    "len(total_comment)"
   ]
  },
  {
   "cell_type": "code",
   "execution_count": 307,
   "metadata": {},
   "outputs": [],
   "source": [
    "import pandas as pd\n",
    "\n",
    "output = pd.DataFrame(total_comment)\n",
    "output.to_excel('crawl-nlp-tiki-ver2.xlsx',encoding='utf-8')"
   ]
  }
 ],
 "metadata": {
  "kernelspec": {
   "display_name": "Python 3",
   "language": "python",
   "name": "python3"
  },
  "language_info": {
   "codemirror_mode": {
    "name": "ipython",
    "version": 3
   },
   "file_extension": ".py",
   "mimetype": "text/x-python",
   "name": "python",
   "nbconvert_exporter": "python",
   "pygments_lexer": "ipython3",
   "version": "3.8.3"
  }
 },
 "nbformat": 4,
 "nbformat_minor": 4
}
